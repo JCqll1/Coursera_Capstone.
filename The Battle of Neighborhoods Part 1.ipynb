{
    "cells": [
        {
            "cell_type": "markdown",
            "metadata": {
                "collapsed": true
            },
            "source": "# The Battle of the Neighborhoods - (Part 1)\n\n\n\nIntroduction & Business Problem :\n\n\n\nProblem Background:\n\nThe City of New York, is one of the most populous cities in the United States. It is diverse and is the financial capital of USA. It is a global and multicultural city. It provides lot of business oppourtunities and business friendly environment. It is a global hub of business and commerce. The city is a major center for banking and finance, retailing, world trade, transportation, tourism, real estate, new media, traditional media, advertising, legal services, accountancy, insurance, theater, fashion, in the United States.\n\nThis means that the market is highly competitive. As it is a well developed city so cost of doing business is also one of the highest. So any new business venture or expansion needs to be analysed carefully. The information from the analysis will give good understanding of the business environment which help in strategically targeting the market. This will help in reduction of risk and return on the investment will be reasonable. \n\n\n\nProblem Description:\n\nA restaurant is a business which prepares and serves food and drink to customers in return for money, either paid before the meal, after the meal, or with an open account. The City of New York is well known for its excelllent cuisine. The food culture includes an array of international cuisines influenced by the city's immigrant history.\n\n    Central and Eastern European immigrants, as well as Middle Eastern immigrants - bagels, cheesecake, hot dogs, knishes, and delicatessens\n    Italian immigrants - New York-style pizza and Italian cuisine\n    Jewish immigrants and Irish immigrants - pastrami and corned beef\n    Chinese and other Asian restaurants, sandwich joints, trattorias, diners, and coffeehouses are ubiquitous throughout the city\n    mobile food vendors - Some 4,000 licensed by the city\n    Middle Eastern foods such as falafel and kebabs examples of modern New York street food\n    It is famous for not just Pizzerias, Cafe's but also for fine dining Michelin starred restaurants.The city is home to \"nearly one thousand of the finest and most diverse haute cuisine restaurants in the world\", according to Michelin.\n\nSo it is evident that to survive in such competitive market it is very important to startegically plan. Various factors need to be studied in order to decide on the Location such as :\n\n1. New York Population\n2. New York City Demographics\n3. Are there any Farmers Markets, Wholesale markets etc nearby so that the ingredients can be purchased fresh to maintain quality and cost?\n4. Are there any venues like Gyms, Entertainmnet zones, Parks etc nearby where floating population is high etc\n5. Who are the competitors in that location?\n6. Cuisine served / Menu of the competitors\n7. Segmentation of the Borough\n8. Untapped markets\n9. Saturated markets etc\n\n\nThe well funded ONE Company Inc. needs to choose the correct location to start its first venture. If this is successful, they can replicate the same in other locations. The first move is very important as well as the choice of location. \n\n\n\nTarget Audience:\n\nTo recommend the correct location, ONE Company Inc. has created a Data Science team to recommend solutions. The objective is to locate and recommend to the management which neighborhood in New York City will be best choice to start a restaurant. Management expects to act on the recommendations made byt the Data Science Team.\n\nThis would be of great interest for anyone who wants to start a new restaurant in New York City. \n\n\n\nSuccess Criteria:\n\nThe success criteria of the project will be a good recommendation of borough/Neighborhood choice to XYZ Company Ltd based on Lack of such restaurants in that location and nearest suppliers of ingredients.\n"
        }
    ],
    "metadata": {
        "kernelspec": {
            "display_name": "Python 3.6",
            "language": "python",
            "name": "python3"
        },
        "language_info": {
            "codemirror_mode": {
                "name": "ipython",
                "version": 3
            },
            "file_extension": ".py",
            "mimetype": "text/x-python",
            "name": "python",
            "nbconvert_exporter": "python",
            "pygments_lexer": "ipython3",
            "version": "3.6.9"
        }
    },
    "nbformat": 4,
    "nbformat_minor": 1
}