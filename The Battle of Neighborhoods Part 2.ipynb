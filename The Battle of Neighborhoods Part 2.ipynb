{
    "cells": [
        {
            "cell_type": "markdown",
            "metadata": {
                "collapsed": true
            },
            "source": "# The Battle of the Neighborhoods - Part 2\n\n\n\n\nData:\n\nThe city that will be analyzed for this project : New York City.\n\nWe will be using the datasets below for analyzing New York City\n\n\n\n\n\nData 1 :\n\nThe Neighborhood has a total of 5 boroughs and 306 neighborhoods. In order to segement the neighborhoods and explore them, we will need a dataset that contains the 5 boroughs and the neighborhoods that exist in each borough as well as the the latitude and logitude coordinates for each neighborhood.\n\nThis dataset is available free on the web. Link to the dataset is : https://geo.nyu.edu/catalog/nyu_2451_34572\n\n\n\n\n\nData 2 :\n\nSecond dataset that will be used is the DOHMH Farmers Markets and Food Boxes dataset. We will be using the data of the Farmers Markets.\n\nhttps://data.cityofnewyork.us/dataset/DOHMH-Farmers-Markets-and-Food-Boxes/8vwk-6iz2\n\nWebsite-https://www.grownyc.org/greenmarketco/foodbox \n\n\nGrowNYC's Fresh Food Box Program is a food access initiative that enables under served communities to purchase fresh, healthy, and primarily regionally grown produce well below traditional retail prices.\n\nA farmers' market is often defined as a public site used by two or more local or regional producers for the direct sale of farm products to consumers. In addition to fresh fruits and vegetables, these markets may sell dairy products, fish, meat, baked goods, and other minimally processed foods.\n\n\n\n\n\nData 3 :\n\nFor the below analysis we will get data from wikipedia as given below :\n\nNew York Population\nNew York City Demographics\nCuisine of New York city\n\nhttps://en.wikipedia.org/wiki/New_York_City https://en.wikipedia.org/wiki/Economy_of_New_York_City https://en.wikipedia.org/wiki/Portal:New_York_City https://en.wikipedia.org/wiki/Cuisine_of_New_York_City https://en.wikipedia.org/wiki/List_of_Michelin_starred_restaurants_in_New_York_City\n\n\n\n\n\nData 4 :\n\nNew York City geographical coordinates data will be utilized as input for the Foursquare API, that will be leveraged to provision venues information for each neighborhood. We will use the Foursquare API to explore neighborhoods in New York City.\n"
        }
    ],
    "metadata": {
        "kernelspec": {
            "display_name": "Python 3.6",
            "language": "python",
            "name": "python3"
        },
        "language_info": {
            "codemirror_mode": {
                "name": "ipython",
                "version": 3
            },
            "file_extension": ".py",
            "mimetype": "text/x-python",
            "name": "python",
            "nbconvert_exporter": "python",
            "pygments_lexer": "ipython3",
            "version": "3.6.9"
        }
    },
    "nbformat": 4,
    "nbformat_minor": 1
}